{
 "cells": [
  {
   "cell_type": "raw",
   "metadata": {},
   "source": [
    "---\n",
    "title: Previsão de pessoas brasileiras em Ocupação\n",
    "author: João F. Quentino\n",
    "format:\n",
    "  html:\n",
    "    code-fold: true\n",
    "---"
   ]
  },
  {
   "cell_type": "code",
   "execution_count": null,
   "metadata": {},
   "outputs": [],
   "source": [
    "import warnings\n",
    "warnings.simplefilter(\"ignore\")\n",
    "\n",
    "from sktime.forecasting.compose import RecursiveTimeSeriesRegressionForecaster\n",
    "from sktime.performance_metrics.forecasting import MeanAbsolutePercentageError\n",
    "from sktime.forecasting.model_selection import temporal_train_test_split\n",
    "from sktime.forecasting.naive import NaiveForecaster\n",
    "from sklearn.ensemble import RandomForestRegressor\n",
    "from sklearn.preprocessing import StandardScaler\n",
    "from sktime.forecasting.arima import AutoARIMA\n",
    "from sktime.forecasting.sarimax import SARIMAX\n",
    "from sktime.utils.plotting import plot_series\n",
    "from datetime import timedelta\n",
    "from datetime import datetime\n",
    "import pandas as pd\n",
    "import numpy as np"
   ]
  },
  {
   "cell_type": "markdown",
   "metadata": {},
   "source": [
    "### Leitura do dataset, formatação dele"
   ]
  },
  {
   "cell_type": "code",
   "execution_count": null,
   "metadata": {},
   "outputs": [],
   "source": [
    "df = pd.read_csv(\"../data/pessoas_ocupadas_2020-2023.csv\")\n",
    "df = df.T\n",
    "df = df.rename(columns={0:\"ocupacao\"})\n",
    "df.index = pd.to_datetime(df.index)\n",
    "df.index = df.index.to_period(\"M\")\n",
    "df.ocupacao = pd.to_numeric(df.ocupacao)\n",
    "df.ocupacao *= 1000"
   ]
  },
  {
   "cell_type": "code",
   "execution_count": null,
   "metadata": {},
   "outputs": [],
   "source": [
    "df.plot(figsize=(10,6))"
   ]
  },
  {
   "cell_type": "markdown",
   "metadata": {},
   "source": [
    "## Separação treino e teste"
   ]
  },
  {
   "cell_type": "code",
   "execution_count": null,
   "metadata": {},
   "outputs": [],
   "source": [
    "y = df\n",
    "y_train, y_test = temporal_train_test_split(y)\n",
    "fh = np.arange(len(y_test))+1\n",
    "plot_series(y_train, y_test, labels=[\"y_train\", \"y_test\"])"
   ]
  },
  {
   "cell_type": "markdown",
   "metadata": {},
   "source": [
    "## Previsões com o método Forecaster "
   ]
  },
  {
   "cell_type": "code",
   "execution_count": null,
   "metadata": {},
   "outputs": [],
   "source": [
    "# Naive Forecaster com estratégia 'last'\n",
    "\n",
    "naive_forecaster_last = NaiveForecaster(strategy=\"last\")\n",
    "naive_forecaster_last.fit(y_train)\n",
    "y_last = naive_forecaster_last.predict(fh)\n",
    "\n",
    "# Naive Forecaster com estratégia 'drift' e sp=12\n",
    "\n",
    "naive_forecaster_drift = NaiveForecaster(strategy=\"drift\",sp=12)\n",
    "naive_forecaster_drift.fit(y_train)\n",
    "y_drift = naive_forecaster_drift.predict(fh)\n",
    "\n",
    "plot_series(y_train, y_test, y_last,y_drift, labels=[\"y_train\", \"y_test\", \"y_pred_last\",\"y_drift\"]);"
   ]
  },
  {
   "cell_type": "markdown",
   "metadata": {},
   "source": [
    "## Previsões com ARIMA"
   ]
  },
  {
   "cell_type": "code",
   "execution_count": null,
   "metadata": {},
   "outputs": [],
   "source": [
    "arima_forecasting = AutoARIMA(sp=12)\n",
    "arima_forecasting.fit(y_train)\n",
    "\n",
    "# Modelo pode demorar um pouco pois irá testar vários parâmetros.\n",
    "y_arima = arima_forecasting.predict(fh)\n",
    "\n",
    "plot_series(y_train, y_test, y_arima, labels=['y_train', 'y_test', 'y_arima'])"
   ]
  },
  {
   "cell_type": "markdown",
   "metadata": {},
   "source": [
    "## Previsões com SARIMA"
   ]
  },
  {
   "cell_type": "code",
   "execution_count": null,
   "metadata": {},
   "outputs": [],
   "source": [
    "sarima_forecasting = SARIMAX(order=(1, 0, 0), trend=\"c\", seasonal_order=(1, 0, 0, 6))\n",
    "sarima_forecasting.fit(y_train)\n",
    "\n",
    "# Modelo pode demorar um pouco pois irá testar vários parâmetros.\n",
    "y_sarima = sarima_forecasting.predict(fh)\n",
    "\n",
    "plot_series(y_train, y_test, y_sarima, labels=['y_train', 'y_test', 'y_sarima'])"
   ]
  },
  {
   "cell_type": "markdown",
   "metadata": {},
   "source": [
    "## Usando o Rolling Forecast Origin\n",
    "Prevê um mês, compara com o dataset original, \"aprende\", e prevê o próximo mês."
   ]
  },
  {
   "cell_type": "code",
   "execution_count": null,
   "metadata": {},
   "outputs": [],
   "source": [
    "def pass_month(old_month):\n",
    "    old_month = str(old_month)\n",
    "    year = old_month[0:4]\n",
    "    month = int(old_month[5:])\n",
    "    if month == 12:\n",
    "        month = '01'\n",
    "        year = str(int(year) + 1)\n",
    "    \n",
    "    elif month == 9 or month == 10 or month == 11:\n",
    "        month += 1\n",
    "        month = str(month)\n",
    "        \n",
    "    else:\n",
    "        month += 1\n",
    "        month = '0'+ str(month)\n",
    "    \n",
    "    new_date = year+'-'+month\n",
    "    return new_date"
   ]
  },
  {
   "cell_type": "code",
   "execution_count": null,
   "metadata": {},
   "outputs": [],
   "source": [
    "teste = df.copy()\n",
    "train_end = '2023-04'\n",
    "test_middle = '2023-05'\n",
    "test_end = '2023-12'\n",
    "train_data = teste[:train_end]\n",
    "test_data = teste[test_middle:test_end]"
   ]
  },
  {
   "cell_type": "code",
   "execution_count": null,
   "metadata": {},
   "outputs": [],
   "source": [
    "rolling_predictions = df.copy()\n",
    "for period in test_data.index:\n",
    "    next_month = pass_month(period)\n",
    "    train_data = df[:next_month]\n",
    "    model = SARIMAX(order=(1, 0, 0), trend=\"c\", seasonal_order=(1, 0, 0, 6))\n",
    "    model.fit(train_data)\n",
    "    \n",
    "    pred = model.predict(fh)\n",
    "    rolling_predictions[period] = pred"
   ]
  },
  {
   "cell_type": "code",
   "execution_count": null,
   "metadata": {},
   "outputs": [],
   "source": [
    "rolling_predictions.plot()\n",
    "df.plot()"
   ]
  },
  {
   "cell_type": "markdown",
   "metadata": {},
   "source": [
    "## Conclusão\n",
    "Essa série temporal teve um resultado mediano com todos os modelos, o melhor (novamente) foi o ARIMA. Logo, estaremos usando este modelo. "
   ]
  }
 ],
 "metadata": {
  "kernelspec": {
   "display_name": "Python 3 (ipykernel)",
   "language": "python",
   "name": "python3"
  },
  "language_info": {
   "codemirror_mode": {
    "name": "ipython",
    "version": 3
   },
   "file_extension": ".py",
   "mimetype": "text/x-python",
   "name": "python",
   "nbconvert_exporter": "python",
   "pygments_lexer": "ipython3",
   "version": "3.10.12"
  }
 },
 "nbformat": 4,
 "nbformat_minor": 4
}
