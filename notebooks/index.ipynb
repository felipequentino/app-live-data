{
 "cells": [
  {
   "cell_type": "raw",
   "metadata": {},
   "source": [
    "---\n",
    "title: Previsão da População do Brasil através de Séries Temporais\n",
    "author: João F. Quentino\n",
    "format:\n",
    "  html:\n",
    "    code-fold: true\n",
    "---"
   ]
  },
  {
   "cell_type": "markdown",
   "metadata": {},
   "source": [
    "### Imports "
   ]
  },
  {
   "cell_type": "code",
   "execution_count": null,
   "metadata": {},
   "outputs": [],
   "source": [
    "import warnings\n",
    "warnings.simplefilter(\"ignore\")\n",
    "\n",
    "from sktime.forecasting.compose import RecursiveTimeSeriesRegressionForecaster\n",
    "from sktime.performance_metrics.forecasting import MeanAbsolutePercentageError\n",
    "from sktime.forecasting.model_selection import temporal_train_test_split\n",
    "from sktime.forecasting.naive import NaiveForecaster\n",
    "from sklearn.ensemble import RandomForestRegressor\n",
    "from sktime.forecasting.arima import AutoARIMA\n",
    "from sktime.utils.plotting import plot_series\n",
    "import pandas as pd\n",
    "import numpy as np"
   ]
  },
  {
   "cell_type": "markdown",
   "metadata": {},
   "source": [
    "### Leitura do dataset, formatação dele e multiplicação por escalar "
   ]
  },
  {
   "cell_type": "code",
   "execution_count": null,
   "metadata": {},
   "outputs": [],
   "source": [
    "df = pd.read_csv(\"../data/populacao_2020-2023.csv\")\n",
    "df = df.T\n",
    "df = df.rename(columns={0:\"populacao\"})\n",
    "df.index = pd.to_datetime(df.index)\n",
    "df.index = df.index.to_period(\"M\")\n",
    "df.populacao = pd.to_numeric(df.populacao)\n",
    "df.populacao *= 1000"
   ]
  },
  {
   "cell_type": "code",
   "execution_count": null,
   "metadata": {},
   "outputs": [],
   "source": [
    "df.plot(figsize=(10,3))"
   ]
  },
  {
   "cell_type": "markdown",
   "metadata": {},
   "source": [
    "## Separação treino e teste"
   ]
  },
  {
   "cell_type": "code",
   "execution_count": null,
   "metadata": {},
   "outputs": [],
   "source": [
    "y = df\n",
    "y_train, y_test = temporal_train_test_split(y)\n",
    "fh = np.arange(len(y_test))+1\n",
    "plot_series(y_train, y_test, labels=[\"y_train\", \"y_test\"])"
   ]
  },
  {
   "cell_type": "markdown",
   "metadata": {},
   "source": [
    "## Previsões com o método Forecaster "
   ]
  },
  {
   "cell_type": "code",
   "execution_count": null,
   "metadata": {},
   "outputs": [],
   "source": [
    "# Naive Forecaster com estratégia 'last'\n",
    "\n",
    "naive_forecaster_last = NaiveForecaster(strategy=\"last\")\n",
    "naive_forecaster_last.fit(y_train)\n",
    "y_last = naive_forecaster_last.predict(fh)\n",
    "\n",
    "# Naive Forecaster com estratégia 'drift' e sp=12\n",
    "\n",
    "naive_forecaster_drift = NaiveForecaster(strategy=\"drift\",sp=12)\n",
    "naive_forecaster_drift.fit(y_train)\n",
    "y_drift = naive_forecaster_drift.predict(fh)\n",
    "\n",
    "plot_series(y_train, y_test, y_last,y_drift, labels=[\"y_train\", \"y_test\", \"y_pred_last\",\"y_drift\"]);"
   ]
  },
  {
   "cell_type": "markdown",
   "metadata": {},
   "source": [
    "## Previsões com ARIMA"
   ]
  },
  {
   "cell_type": "code",
   "execution_count": null,
   "metadata": {},
   "outputs": [],
   "source": [
    "arima_forecasting = AutoARIMA(sp=12)\n",
    "arima_forecasting.fit(y_train)\n",
    "\n",
    "# Modelo pode demorar um pouco pois irá testar vários parâmetros.\n",
    "y_arima = arima_forecasting.predict(fh)\n",
    "\n",
    "plot_series(y_train, y_test, y_arima, labels=['y_train', 'y_test', 'y_arima'])"
   ]
  },
  {
   "cell_type": "markdown",
   "metadata": {},
   "source": [
    "## Conclusão\n",
    "O modelo ARIMA preveu tão corretamente que sobrepôs a linha de y_test. Logo, é o melhor modelo para ser usado no tópico de População."
   ]
  }
 ],
 "metadata": {
  "kernelspec": {
   "display_name": "Python 3 (ipykernel)",
   "language": "python",
   "name": "python3"
  },
  "language_info": {
   "codemirror_mode": {
    "name": "ipython",
    "version": 3
   },
   "file_extension": ".py",
   "mimetype": "text/x-python",
   "name": "python",
   "nbconvert_exporter": "python",
   "pygments_lexer": "ipython3",
   "version": "3.10.12"
  }
 },
 "nbformat": 4,
 "nbformat_minor": 4
}
