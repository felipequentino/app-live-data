{
 "cells": [
  {
   "cell_type": "code",
   "execution_count": 1,
   "metadata": {},
   "outputs": [],
   "source": [
    "import pandas as pd\n",
    "import numpy as np"
   ]
  },
  {
   "cell_type": "code",
   "execution_count": 2,
   "metadata": {},
   "outputs": [],
   "source": [
    "gastos_defesa_2024 = 110182072754\n",
    "\n",
    "arr = np.empty(12)\n",
    "\n",
    "gastos_mes_defesa = gastos_defesa_2024 / 12\n",
    "\n",
    "for i in range(12):\n",
    "    arr[i] = gastos_mes_defesa * (i + 1)\n"
   ]
  },
  {
   "cell_type": "code",
   "execution_count": 3,
   "metadata": {},
   "outputs": [
    {
     "data": {
      "text/html": [
       "<div>\n",
       "<style scoped>\n",
       "    .dataframe tbody tr th:only-of-type {\n",
       "        vertical-align: middle;\n",
       "    }\n",
       "\n",
       "    .dataframe tbody tr th {\n",
       "        vertical-align: top;\n",
       "    }\n",
       "\n",
       "    .dataframe thead th {\n",
       "        text-align: right;\n",
       "    }\n",
       "</style>\n",
       "<table border=\"1\" class=\"dataframe\">\n",
       "  <thead>\n",
       "    <tr style=\"text-align: right;\">\n",
       "      <th></th>\n",
       "      <th>populacao</th>\n",
       "    </tr>\n",
       "  </thead>\n",
       "  <tbody>\n",
       "    <tr>\n",
       "      <th>2024-01</th>\n",
       "      <td>9.181839e+09</td>\n",
       "    </tr>\n",
       "    <tr>\n",
       "      <th>2024-02</th>\n",
       "      <td>1.836368e+10</td>\n",
       "    </tr>\n",
       "    <tr>\n",
       "      <th>2024-03</th>\n",
       "      <td>2.754552e+10</td>\n",
       "    </tr>\n",
       "    <tr>\n",
       "      <th>2024-04</th>\n",
       "      <td>3.672736e+10</td>\n",
       "    </tr>\n",
       "    <tr>\n",
       "      <th>2024-05</th>\n",
       "      <td>4.590920e+10</td>\n",
       "    </tr>\n",
       "    <tr>\n",
       "      <th>2024-06</th>\n",
       "      <td>5.509104e+10</td>\n",
       "    </tr>\n",
       "    <tr>\n",
       "      <th>2024-07</th>\n",
       "      <td>6.427288e+10</td>\n",
       "    </tr>\n",
       "    <tr>\n",
       "      <th>2024-08</th>\n",
       "      <td>7.345472e+10</td>\n",
       "    </tr>\n",
       "    <tr>\n",
       "      <th>2024-09</th>\n",
       "      <td>8.263655e+10</td>\n",
       "    </tr>\n",
       "    <tr>\n",
       "      <th>2024-10</th>\n",
       "      <td>9.181839e+10</td>\n",
       "    </tr>\n",
       "    <tr>\n",
       "      <th>2024-11</th>\n",
       "      <td>1.010002e+11</td>\n",
       "    </tr>\n",
       "    <tr>\n",
       "      <th>2024-12</th>\n",
       "      <td>1.101821e+11</td>\n",
       "    </tr>\n",
       "  </tbody>\n",
       "</table>\n",
       "</div>"
      ],
      "text/plain": [
       "            populacao\n",
       "2024-01  9.181839e+09\n",
       "2024-02  1.836368e+10\n",
       "2024-03  2.754552e+10\n",
       "2024-04  3.672736e+10\n",
       "2024-05  4.590920e+10\n",
       "2024-06  5.509104e+10\n",
       "2024-07  6.427288e+10\n",
       "2024-08  7.345472e+10\n",
       "2024-09  8.263655e+10\n",
       "2024-10  9.181839e+10\n",
       "2024-11  1.010002e+11\n",
       "2024-12  1.101821e+11"
      ]
     },
     "execution_count": 3,
     "metadata": {},
     "output_type": "execute_result"
    }
   ],
   "source": [
    "idx = pd.period_range(start='2024-01', end='2024-12', freq='M')\n",
    "df = pd.DataFrame(index=idx, data={\"populacao\":arr})\n",
    "df"
   ]
  },
  {
   "cell_type": "code",
   "execution_count": 4,
   "metadata": {},
   "outputs": [],
   "source": [
    "df.to_csv('../data/data_predicted/predict_gastos_ministerio_defesa.csv')"
   ]
  }
 ],
 "metadata": {
  "kernelspec": {
   "display_name": "Python 3 (ipykernel)",
   "language": "python",
   "name": "python3"
  },
  "language_info": {
   "codemirror_mode": {
    "name": "ipython",
    "version": 3
   },
   "file_extension": ".py",
   "mimetype": "text/x-python",
   "name": "python",
   "nbconvert_exporter": "python",
   "pygments_lexer": "ipython3",
   "version": "3.10.12"
  }
 },
 "nbformat": 4,
 "nbformat_minor": 4
}
